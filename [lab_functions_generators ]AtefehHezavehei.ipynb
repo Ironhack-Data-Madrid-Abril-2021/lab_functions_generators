{
 "cells": [
  {
   "cell_type": "code",
   "execution_count": 109,
   "id": "fc2290d8",
   "metadata": {},
   "outputs": [],
   "source": [
    "#Challenge 1 - Functions,Create a function to find the summation of the number of every number from 1 to num.\n",
    "def summation(num):\n",
    "    total=0\n",
    "    i=1\n",
    "    while i <=num:\n",
    "        total=total+i\n",
    "        i+=1\n",
    "    if i>num:\n",
    "        return total"
   ]
  },
  {
   "cell_type": "code",
   "execution_count": 115,
   "id": "654dfc30",
   "metadata": {},
   "outputs": [
    {
     "data": {
      "text/plain": [
       "2775"
      ]
     },
     "execution_count": 115,
     "metadata": {},
     "output_type": "execute_result"
    }
   ],
   "source": [
    "summation(74)"
   ]
  },
  {
   "cell_type": "code",
   "execution_count": 153,
   "id": "dc72fe31",
   "metadata": {},
   "outputs": [],
   "source": [
    "#Challenge 2 - Positional arguments, Args and Kwargs\n",
    "# This function returns the sum of *args\n",
    "def summation2(*args):\n",
    "        return(sum(*args))"
   ]
  },
  {
   "cell_type": "code",
   "execution_count": 154,
   "id": "a6a171f2",
   "metadata": {
    "scrolled": false
   },
   "outputs": [
    {
     "data": {
      "text/plain": [
       "27"
      ]
     },
     "execution_count": 154,
     "metadata": {},
     "output_type": "execute_result"
    }
   ],
   "source": [
    "array=[3, 8, 16]\n",
    "summation2(array)"
   ]
  },
  {
   "cell_type": "code",
   "execution_count": 160,
   "id": "e472a3c0",
   "metadata": {},
   "outputs": [],
   "source": [
    "# This function returns a+b+c, # Your code here:\n",
    "def summation3(a, b, c):\n",
    "    return a+b+c"
   ]
  },
  {
   "cell_type": "code",
   "execution_count": 163,
   "id": "07f4393e",
   "metadata": {},
   "outputs": [
    {
     "data": {
      "text/plain": [
       "27"
      ]
     },
     "execution_count": 163,
     "metadata": {},
     "output_type": "execute_result"
    }
   ],
   "source": [
    "array=[3, 8, 16]\n",
    "summation3(*array)"
   ]
  },
  {
   "cell_type": "code",
   "execution_count": 173,
   "id": "d9630cba",
   "metadata": {},
   "outputs": [],
   "source": [
    "#Given the next dictionary of M&Ms, create a function to sum all non red M&Ms.\n",
    "#This function returns the sum of all M&Ms, except the red ones  \n",
    "def summation4(**kwargs):\n",
    "    return(sum(kwargs.values()))"
   ]
  },
  {
   "cell_type": "code",
   "execution_count": 174,
   "id": "1aa63307",
   "metadata": {},
   "outputs": [
    {
     "data": {
      "text/plain": [
       "57"
      ]
     },
     "execution_count": 174,
     "metadata": {},
     "output_type": "execute_result"
    }
   ],
   "source": [
    "dictionary={'red':3, 'blue':8, 'green':24, 'orange':12, 'purple':10}\n",
    "summation4(**dictionary)"
   ]
  },
  {
   "cell_type": "code",
   "execution_count": 198,
   "id": "359679d2",
   "metadata": {
    "scrolled": true
   },
   "outputs": [],
   "source": [
    "# This function returns the sum of a,b,c,d and e\n",
    "# You need to define the function input\n",
    "def summation5(a,b,c,d,e):\n",
    "    return(a+b+c+sum(d)+sum(e.values()))"
   ]
  },
  {
   "cell_type": "code",
   "execution_count": 199,
   "id": "c0606085",
   "metadata": {},
   "outputs": [],
   "source": [
    "a=4\n",
    "b=6\n",
    "c=15\n",
    "d=[48, 465, 23, 96]\n",
    "e={'A':16, 'B':32, 'C':64}"
   ]
  },
  {
   "cell_type": "code",
   "execution_count": 200,
   "id": "d8280a5b",
   "metadata": {},
   "outputs": [
    {
     "data": {
      "text/plain": [
       "769"
      ]
     },
     "execution_count": 200,
     "metadata": {},
     "output_type": "execute_result"
    }
   ],
   "source": [
    "summation5(a,b,c,d,e)"
   ]
  },
  {
   "cell_type": "code",
   "execution_count": 202,
   "id": "5210529a",
   "metadata": {},
   "outputs": [
    {
     "name": "stdout",
     "output_type": "stream",
     "text": [
      "1\n"
     ]
    }
   ],
   "source": [
    "#Challenge 3 - Iterators, Generators and yield\n",
    "iterator = iter([1,2,3])\n",
    "print(next(iterator))"
   ]
  },
  {
   "cell_type": "code",
   "execution_count": 203,
   "id": "ba2b6064",
   "metadata": {},
   "outputs": [
    {
     "name": "stdout",
     "output_type": "stream",
     "text": [
      "2\n"
     ]
    }
   ],
   "source": [
    "print(next(iterator))"
   ]
  },
  {
   "cell_type": "code",
   "execution_count": 204,
   "id": "99c8e3a9",
   "metadata": {},
   "outputs": [
    {
     "name": "stdout",
     "output_type": "stream",
     "text": [
      "1\n",
      "2\n",
      "3\n"
     ]
    }
   ],
   "source": [
    "iterator = iter([1,2,3])\n",
    "\n",
    "for i in iterator:\n",
    "    print(i)"
   ]
  },
  {
   "cell_type": "code",
   "execution_count": 324,
   "id": "2a8482d1",
   "metadata": {},
   "outputs": [],
   "source": [
    "iterator=iter([1,2,3])\n",
    "#This function takes an iterable and returns the first element that is divisible by 2 and zero otherwise\n",
    "# Input: Iterable , # Output: Integer\n",
    "def divisible2(iterator):\n",
    "    for i in iterator:\n",
    "        if i%2==0:\n",
    "            return(i)\n",
    "        else:\n",
    "            continue\n",
    "    return(0)"
   ]
  },
  {
   "cell_type": "code",
   "execution_count": 325,
   "id": "5c295e67",
   "metadata": {},
   "outputs": [
    {
     "data": {
      "text/plain": [
       "2"
      ]
     },
     "execution_count": 325,
     "metadata": {},
     "output_type": "execute_result"
    }
   ],
   "source": [
    "divisible2(iterator)"
   ]
  },
  {
   "cell_type": "code",
   "execution_count": 311,
   "id": "71bbcf59",
   "metadata": {},
   "outputs": [],
   "source": [
    "#Generators\n",
    "def firstn(n):\n",
    "     number = 0\n",
    "     while number < n:\n",
    "         yield number\n",
    "         number = number + 1"
   ]
  },
  {
   "cell_type": "code",
   "execution_count": 312,
   "id": "50c20c82",
   "metadata": {},
   "outputs": [
    {
     "name": "stdout",
     "output_type": "stream",
     "text": [
      "0\n",
      "1\n",
      "2\n",
      "3\n",
      "4\n"
     ]
    }
   ],
   "source": [
    "iterator = firstn(5)\n",
    "\n",
    "for i in iterator:\n",
    "    print(i)"
   ]
  },
  {
   "cell_type": "code",
   "execution_count": 366,
   "id": "bb2a7fa9",
   "metadata": {},
   "outputs": [],
   "source": [
    "# This function produces an iterator containing all even numbers between 0 and n\n",
    "# Input: integer ,# Output: iterator\n",
    " # Sample Input: 5 ,# Sample Output: iter([0, 2, 4])\n",
    "def even_iterator(n):\n",
    "    i=0\n",
    "    while i<=n:\n",
    "        if i%2==0:\n",
    "            yield i\n",
    "        else:\n",
    "            i+=1\n",
    "            continue"
   ]
  },
  {
   "cell_type": "code",
   "execution_count": 368,
   "id": "6897f22a",
   "metadata": {
    "scrolled": true
   },
   "outputs": [
    {
     "data": {
      "text/plain": [
       "<generator object even_iterator at 0x0000026C98C4CEB0>"
      ]
     },
     "execution_count": 368,
     "metadata": {},
     "output_type": "execute_result"
    }
   ],
   "source": [
    "even_iterator(5)"
   ]
  }
 ],
 "metadata": {
  "kernelspec": {
   "display_name": "Python 3",
   "language": "python",
   "name": "python3"
  },
  "language_info": {
   "codemirror_mode": {
    "name": "ipython",
    "version": 3
   },
   "file_extension": ".py",
   "mimetype": "text/x-python",
   "name": "python",
   "nbconvert_exporter": "python",
   "pygments_lexer": "ipython3",
   "version": "3.9.2"
  }
 },
 "nbformat": 4,
 "nbformat_minor": 5
}
